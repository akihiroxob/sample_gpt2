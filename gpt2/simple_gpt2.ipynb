{
 "cells": [
  {
   "cell_type": "code",
   "execution_count": 10,
   "metadata": {
    "tags": []
   },
   "outputs": [
    {
     "name": "stdout",
     "output_type": "stream",
     "text": [
      "Requirement already satisfied: transformers in /Users/aokayama/.pyenv/versions/3.11.2/lib/python3.11/site-packages (4.27.4)\n",
      "Requirement already satisfied: filelock in /Users/aokayama/.pyenv/versions/3.11.2/lib/python3.11/site-packages (from transformers) (3.10.7)\n",
      "Requirement already satisfied: huggingface-hub<1.0,>=0.11.0 in /Users/aokayama/.pyenv/versions/3.11.2/lib/python3.11/site-packages (from transformers) (0.13.3)\n",
      "Requirement already satisfied: numpy>=1.17 in /Users/aokayama/.pyenv/versions/3.11.2/lib/python3.11/site-packages (from transformers) (1.24.2)\n",
      "Requirement already satisfied: packaging>=20.0 in /Users/aokayama/.pyenv/versions/3.11.2/lib/python3.11/site-packages (from transformers) (23.0)\n",
      "Requirement already satisfied: pyyaml>=5.1 in /Users/aokayama/.pyenv/versions/3.11.2/lib/python3.11/site-packages (from transformers) (6.0)\n",
      "Requirement already satisfied: regex!=2019.12.17 in /Users/aokayama/.pyenv/versions/3.11.2/lib/python3.11/site-packages (from transformers) (2023.3.23)\n",
      "Requirement already satisfied: requests in /Users/aokayama/.pyenv/versions/3.11.2/lib/python3.11/site-packages (from transformers) (2.28.2)\n",
      "Requirement already satisfied: tokenizers!=0.11.3,<0.14,>=0.11.1 in /Users/aokayama/.pyenv/versions/3.11.2/lib/python3.11/site-packages (from transformers) (0.13.2)\n",
      "Requirement already satisfied: tqdm>=4.27 in /Users/aokayama/.pyenv/versions/3.11.2/lib/python3.11/site-packages (from transformers) (4.65.0)\n",
      "Requirement already satisfied: typing-extensions>=3.7.4.3 in /Users/aokayama/.pyenv/versions/3.11.2/lib/python3.11/site-packages (from huggingface-hub<1.0,>=0.11.0->transformers) (4.5.0)\n",
      "Requirement already satisfied: charset-normalizer<4,>=2 in /Users/aokayama/.pyenv/versions/3.11.2/lib/python3.11/site-packages (from requests->transformers) (3.1.0)\n",
      "Requirement already satisfied: idna<4,>=2.5 in /Users/aokayama/.pyenv/versions/3.11.2/lib/python3.11/site-packages (from requests->transformers) (3.4)\n",
      "Requirement already satisfied: urllib3<1.27,>=1.21.1 in /Users/aokayama/.pyenv/versions/3.11.2/lib/python3.11/site-packages (from requests->transformers) (1.26.15)\n",
      "Requirement already satisfied: certifi>=2017.4.17 in /Users/aokayama/.pyenv/versions/3.11.2/lib/python3.11/site-packages (from requests->transformers) (2022.12.7)\n",
      "Requirement already satisfied: sentencepiece in /Users/aokayama/.pyenv/versions/3.11.2/lib/python3.11/site-packages (0.1.97)\n",
      "Requirement already satisfied: torch in /Users/aokayama/.pyenv/versions/3.11.2/lib/python3.11/site-packages (2.0.0)\n",
      "Requirement already satisfied: filelock in /Users/aokayama/.pyenv/versions/3.11.2/lib/python3.11/site-packages (from torch) (3.10.7)\n",
      "Requirement already satisfied: typing-extensions in /Users/aokayama/.pyenv/versions/3.11.2/lib/python3.11/site-packages (from torch) (4.5.0)\n",
      "Requirement already satisfied: sympy in /Users/aokayama/.pyenv/versions/3.11.2/lib/python3.11/site-packages (from torch) (1.11.1)\n",
      "Requirement already satisfied: networkx in /Users/aokayama/.pyenv/versions/3.11.2/lib/python3.11/site-packages (from torch) (3.0)\n",
      "Requirement already satisfied: jinja2 in /Users/aokayama/.pyenv/versions/3.11.2/lib/python3.11/site-packages (from torch) (3.1.2)\n",
      "Requirement already satisfied: MarkupSafe>=2.0 in /Users/aokayama/.pyenv/versions/3.11.2/lib/python3.11/site-packages (from jinja2->torch) (2.1.2)\n",
      "Requirement already satisfied: mpmath>=0.19 in /Users/aokayama/.pyenv/versions/3.11.2/lib/python3.11/site-packages (from sympy->torch) (1.3.0)\n",
      "Collecting torchvision\n",
      "  Downloading torchvision-0.15.1-cp311-cp311-macosx_10_9_x86_64.whl (1.5 MB)\n",
      "\u001b[2K     \u001b[38;2;114;156;31m━━━━━━━━━━━━━━━━━━━━━━━━━━━━━━━━━━━━━━━━\u001b[0m \u001b[32m1.5/1.5 MB\u001b[0m \u001b[31m19.4 MB/s\u001b[0m eta \u001b[36m0:00:00\u001b[0mm eta \u001b[36m0:00:01\u001b[0m[36m0:00:01\u001b[0m\n",
      "\u001b[?25hRequirement already satisfied: numpy in /Users/aokayama/.pyenv/versions/3.11.2/lib/python3.11/site-packages (from torchvision) (1.24.2)\n",
      "Requirement already satisfied: requests in /Users/aokayama/.pyenv/versions/3.11.2/lib/python3.11/site-packages (from torchvision) (2.28.2)\n",
      "Requirement already satisfied: torch==2.0.0 in /Users/aokayama/.pyenv/versions/3.11.2/lib/python3.11/site-packages (from torchvision) (2.0.0)\n",
      "Collecting pillow!=8.3.*,>=5.3.0\n",
      "  Downloading Pillow-9.5.0-cp311-cp311-macosx_10_10_x86_64.whl (3.4 MB)\n",
      "\u001b[2K     \u001b[38;2;114;156;31m━━━━━━━━━━━━━━━━━━━━━━━━━━━━━━━━━━━━━━━━\u001b[0m \u001b[32m3.4/3.4 MB\u001b[0m \u001b[31m45.0 MB/s\u001b[0m eta \u001b[36m0:00:00\u001b[0mm eta \u001b[36m0:00:01\u001b[0m0:01\u001b[0m\n",
      "\u001b[?25hRequirement already satisfied: filelock in /Users/aokayama/.pyenv/versions/3.11.2/lib/python3.11/site-packages (from torch==2.0.0->torchvision) (3.10.7)\n",
      "Requirement already satisfied: typing-extensions in /Users/aokayama/.pyenv/versions/3.11.2/lib/python3.11/site-packages (from torch==2.0.0->torchvision) (4.5.0)\n",
      "Requirement already satisfied: sympy in /Users/aokayama/.pyenv/versions/3.11.2/lib/python3.11/site-packages (from torch==2.0.0->torchvision) (1.11.1)\n",
      "Requirement already satisfied: networkx in /Users/aokayama/.pyenv/versions/3.11.2/lib/python3.11/site-packages (from torch==2.0.0->torchvision) (3.0)\n",
      "Requirement already satisfied: jinja2 in /Users/aokayama/.pyenv/versions/3.11.2/lib/python3.11/site-packages (from torch==2.0.0->torchvision) (3.1.2)\n",
      "Requirement already satisfied: charset-normalizer<4,>=2 in /Users/aokayama/.pyenv/versions/3.11.2/lib/python3.11/site-packages (from requests->torchvision) (3.1.0)\n",
      "Requirement already satisfied: idna<4,>=2.5 in /Users/aokayama/.pyenv/versions/3.11.2/lib/python3.11/site-packages (from requests->torchvision) (3.4)\n",
      "Requirement already satisfied: urllib3<1.27,>=1.21.1 in /Users/aokayama/.pyenv/versions/3.11.2/lib/python3.11/site-packages (from requests->torchvision) (1.26.15)\n",
      "Requirement already satisfied: certifi>=2017.4.17 in /Users/aokayama/.pyenv/versions/3.11.2/lib/python3.11/site-packages (from requests->torchvision) (2022.12.7)\n",
      "Requirement already satisfied: MarkupSafe>=2.0 in /Users/aokayama/.pyenv/versions/3.11.2/lib/python3.11/site-packages (from jinja2->torch==2.0.0->torchvision) (2.1.2)\n",
      "Requirement already satisfied: mpmath>=0.19 in /Users/aokayama/.pyenv/versions/3.11.2/lib/python3.11/site-packages (from sympy->torch==2.0.0->torchvision) (1.3.0)\n",
      "Installing collected packages: pillow, torchvision\n",
      "Successfully installed pillow-9.5.0 torchvision-0.15.1\n"
     ]
    }
   ],
   "source": [
    "!pip install transformers # GPT-2が含まれるライブラリ\n",
    "!pip install sentencepiece # 形態素解析\n",
    "!pip install torch\n",
    "!pip install torchvision"
   ]
  },
  {
   "cell_type": "code",
   "execution_count": 16,
   "metadata": {
    "tags": []
   },
   "outputs": [
    {
     "name": "stderr",
     "output_type": "stream",
     "text": [
      "Downloading spiece.model: 100%|██████████████████████████████████████████████████████████████| 806k/806k [00:00<00:00, 27.5MB/s]\n",
      "Downloading (…)cial_tokens_map.json: 100%|█████████████████████████████████████████████████████| 153/153 [00:00<00:00, 47.6kB/s]\n",
      "Downloading (…)okenizer_config.json: 100%|█████████████████████████████████████████████████████| 282/282 [00:00<00:00, 65.7kB/s]\n",
      "Downloading (…)lve/main/config.json: 100%|██████████████████████████████████████████████████████| 799/799 [00:00<00:00, 250kB/s]\n",
      "Downloading pytorch_model.bin: 100%|███████████████████████████████████████████████████████| 1.37G/1.37G [00:51<00:00, 26.4MB/s]\n"
     ]
    }
   ],
   "source": [
    "from transformers import T5Tokenizer, AutoModelForCausalLM\n",
    "\n",
    "tokenizer = T5Tokenizer.from_pretrained(\"rinna/japanese-gpt2-medium\")\n",
    "model = AutoModelForCausalLM.from_pretrained(\"rinna/japanese-gpt2-medium\")"
   ]
  },
  {
   "cell_type": "code",
   "execution_count": 66,
   "metadata": {
    "tags": []
   },
   "outputs": [],
   "source": [
    "def getarate_sentences(seed_sentence):\n",
    "    # seed, ptはPyTorch, 余計な設定は除外\n",
    "    x = tokenizer.encode(seed_sentence, return_tensors=\"pt\", add_special_tokens=False)\n",
    "    y = model.generate(x, # 入力\n",
    "                       min_length=50, # 文章の最小長\n",
    "                       max_length=300, # 文章の最大長\n",
    "                       do_sample=True, # 次の単語を確率で選ぶ\n",
    "                       top_k=50, # Top-Kサンプリング\n",
    "                       top_p=0.95, # Top-pサンプリング\n",
    "                       temperature=1.2, # 確率分布の調整\n",
    "                       num_return_sequences=1, # 生成する文章の数\n",
    "                       pad_token_id=tokenizer.pad_token_id,  # パディングのトークンID\n",
    "                       bos_token_id=tokenizer.bos_token_id,  # テキスト先頭のトークンID\n",
    "                       eos_token_id=tokenizer.eos_token_id  # テキスト終端のトークンID\n",
    "                       # bad_word_ids=[[tokenizer.unk_token_id]]  # 生成が許可されないトークンID                       \n",
    "                      )\n",
    "\n",
    "    generated_sentences = tokenizer.batch_decode(y, skip_special_tokens=True)\n",
    "    return generated_sentences"
   ]
  },
  {
   "cell_type": "code",
   "execution_count": 69,
   "metadata": {
    "tags": []
   },
   "outputs": [
    {
     "name": "stdout",
     "output_type": "stream",
     "text": [
      "りんは朝起きると、部屋のカーテンを開け、空模様を眺めたり、テレビを観たり、スカーフをめくる。 お風呂に入る前に少し外を見ると、青空が輝いている。 「今日は早めに済ませておこう...」と思いながら、洗濯物を畳む...、その時にふと気づいたのですが、私服のままベランダへ出ていた事が発覚! 「うわっ! 今日は洗濯が間に合わない」とベランダに出てみると、なんと洗濯物干し場にりんが入っていた!! いつもならりんの部屋の布団95cmくらいの高さの所でお団をひっくり返すのですが、今日はこれじゃあ、さすがにちょっと高い所で寝かせる訳には行かない、ということでりんは高さ70cmの所から「ひゃーんっ!」と悲鳴を上げたかと思うと、りんは急いで2階の布団へ...。 りんはベッドとベッドルームがある部屋の一番南まで、りんと私は同じ高さまで上がったのですが、りんとりんとも私服のままベランダへ戻り、またベッドでおしっこをしてしまいました。 さすがにりんはベッドからは出られないだろうと私は思いながらも布団の上からりんの口を離したところ、りんは私のお腹を手で優しくもみあげました。 そして「こっちに来て～」と手を伸ばし、私は2\n"
     ]
    }
   ],
   "source": [
    "seed_sentence = \"りんは朝起きると\"  # 川端康成の小説の冒頭\n",
    "sentences = getarate_sentences(seed_sentence)  # 生成された文章\n",
    "for sentence in sentences:\n",
    "    print(sentence)"
   ]
  },
  {
   "cell_type": "code",
   "execution_count": 62,
   "metadata": {
    "tags": []
   },
   "outputs": [],
   "source": []
  },
  {
   "cell_type": "code",
   "execution_count": 2,
   "metadata": {
    "tags": []
   },
   "outputs": [
    {
     "name": "stdout",
     "output_type": "stream",
     "text": [
      "白馬に乗って、草原を駆けるのが夢です。\n"
     ]
    }
   ],
   "source": [
    "import re\n",
    "\n",
    "s = \"白馬【はくば】に乗って、草原【そうげん】を駆けるのが夢です。\"\n",
    "s = re.sub(\"【[^【]+】\",\"\",s)\n",
    "print(s)"
   ]
  },
  {
   "cell_type": "code",
   "execution_count": null,
   "metadata": {},
   "outputs": [],
   "source": [
    "with open(\"gpt2.txt\", \"w\") as f:\n",
    "    f.write(sentences[0])"
   ]
  }
 ],
 "metadata": {
  "kernelspec": {
   "display_name": "Python 3",
   "language": "python",
   "name": "python3"
  },
  "language_info": {
   "codemirror_mode": {
    "name": "ipython",
    "version": 3
   },
   "file_extension": ".py",
   "mimetype": "text/x-python",
   "name": "python",
   "nbconvert_exporter": "python",
   "pygments_lexer": "ipython3",
   "version": "3.7.0"
  }
 },
 "nbformat": 4,
 "nbformat_minor": 5
}
