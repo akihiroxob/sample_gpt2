{
 "cells": [
  {
   "cell_type": "code",
   "execution_count": 4,
   "id": "17578585-5f2d-4765-bf5d-e5c042af3d5b",
   "metadata": {
    "tags": []
   },
   "outputs": [
    {
     "name": "stdout",
     "output_type": "stream",
     "text": [
      "8\n"
     ]
    }
   ],
   "source": [
    "a = 3\n",
    "b = 5\n",
    "print(a + b)"
   ]
  },
  {
   "cell_type": "raw",
   "id": "3704e55a-aa01-4552-8f68-05048646fc08",
   "metadata": {
    "tags": []
   },
   "source": [
    "c = 4\n",
    "if c == 4:\n",
    "     print (\"Hello world\")"
   ]
  },
  {
   "cell_type": "code",
   "execution_count": null,
   "id": "07958b71-6e0f-4f14-9762-e68c4fc3e24c",
   "metadata": {},
   "outputs": [],
   "source": [
    "**AIテキスト**による*テキスト生成*を学ぼう！"
   ]
  },
  {
   "cell_type": "markdown",
   "id": "58adc495-c4bc-4c28-9196-1e4d667a65e5",
   "metadata": {},
   "source": [
    "$$y=\\frac{x^2}{z-1}$$\n",
    "LaTeXの記法で数式を書きます。"
   ]
  }
 ],
 "metadata": {
  "kernelspec": {
   "display_name": "Python 3 (ipykernel)",
   "language": "python",
   "name": "python3"
  },
  "language_info": {
   "codemirror_mode": {
    "name": "ipython",
    "version": 3
   },
   "file_extension": ".py",
   "mimetype": "text/x-python",
   "name": "python",
   "nbconvert_exporter": "python",
   "pygments_lexer": "ipython3",
   "version": "3.8.2"
  }
 },
 "nbformat": 4,
 "nbformat_minor": 5
}
